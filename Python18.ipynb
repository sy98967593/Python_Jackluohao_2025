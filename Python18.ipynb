{
 "cells": [
  {
   "cell_type": "markdown",
   "id": "710bc81b",
   "metadata": {},
   "source": [
    "## 面对对象的编程\n",
    "这是一个编程范式（paradigm），是程序设计的方法论。它把计算机程序视为对象的集合，每个对象都有自己的状态和行为。\n",
    "“程序是指令的集合”，运行程序时，程序中的语句会变成一条或多条指令，然后由CPU（中央处理器）去执行。\n",
    "在面向对象编程的世界里，程序中的数据和操作数据的函数是一个逻辑上的整体，我们称之为对象，对象可以接收消息，解决问题的方法就是创建对象并向对象发出各种各样的消息；通过消息传递，程序中的多个对象可以协同工作，这样就能构造出复杂的系统并解决现实中的问题。"
   ]
  },
  {
   "cell_type": "markdown",
   "id": "befd210e",
   "metadata": {},
   "source": [
    "## 类和对象\n",
    "**面向对象编程：把一组数据和处理数据的方法组成对象，把行为相同的对象归纳为类，通过封装隐藏对象的内部细节，通过继承实现类的特化和泛化，通过多态实现基于对象类型的动态分派。**"
   ]
  },
  {
   "cell_type": "markdown",
   "id": "268ebb43",
   "metadata": {},
   "source": [
    "关键词：对象（object）、类（class）、封装（encapsulation）、继承（inheritance）、多态（polymorphism）。"
   ]
  },
  {
   "cell_type": "markdown",
   "id": "ead05bb5",
   "metadata": {},
   "source": [
    "类是对象的蓝图和模板，对象是类的实例，是可以接受消息的实体。"
   ]
  },
  {
   "cell_type": "markdown",
   "id": "1e6b8399",
   "metadata": {},
   "source": [
    "在面向对象编程的世界中，一切皆为对象，对象都有属性和行为，每个对象都是独一无二的，而且对象一定属于某个类。对象的属性是对象的静态特征，对象的行为是对象的动态特征。"
   ]
  },
  {
   "cell_type": "code",
   "execution_count": 14,
   "id": "591b47e2",
   "metadata": {},
   "outputs": [],
   "source": [
    "class student: # class+类名来定义一个类\n",
    "    def study(sefl,course_name): # def+方法名+参数列表来定义一个方法，方法就是对象的行为, 方法的第一个参数通常都是self，表示对象本身, 代表了接收这个消息的对象本身，course_name表示参数\n",
    "        print(f'学生正在学习{course_name}') \n",
    "    def play(self,game_name):\n",
    "        print(f'学生正在玩{game_name}')\n"
   ]
  },
  {
   "cell_type": "code",
   "execution_count": 16,
   "id": "2d9b6c9f",
   "metadata": {},
   "outputs": [
    {
     "name": "stdout",
     "output_type": "stream",
     "text": [
      "<__main__.student object at 0x000002DC6AD647D0>\n",
      "<__main__.student object at 0x000002DC6C3A6030>\n",
      "0x2dc6ad647d0 0x2dc6c3a6030\n"
     ]
    }
   ],
   "source": [
    "\n",
    "stu1 = student() # 赋值给stu1\n",
    "stu2 = student() # 赋值给stu2\n",
    "print(stu1)    # <__main__.Student object at 0x10ad5ac50>\n",
    "print(stu2)    # <__main__.Student object at 0x10ad5acd0> \n",
    "print(hex(id(stu1)), hex(id(stu2)))    # 0x10ad5ac50 0x10ad5acd0"
   ]
  },
  {
   "cell_type": "markdown",
   "id": "8a224e0e",
   "metadata": {},
   "source": [
    "## 创建和使用对象\n",
    "当定义好一个类后，就可以用构造器语法来创建对象。构造器语法是类名后面跟着一对括号，括号中可以传递参数来初始化对象的属性。例如，我们可以用以下代码来创建一个学生对象：\n",
    "```python\n",
    "s1 = student('张三',18)\n",
    "```\n",
    "其中，'张三'和18是传递给构造器的参数，用来初始化对象的属性name和age。"
   ]
  },
  {
   "cell_type": "code",
   "execution_count": null,
   "id": "fbd4c096",
   "metadata": {},
   "outputs": [],
   "source": [
    "# 通过“类.方法”调用方法\n",
    "# 第一个参数是接收消息的对象\n",
    "# 第二个参数是学习的课程名称\n",
    "Student.study(stu1, 'Python程序设计')    # 学生正在学习Python程序设计.\n",
    "# 通过“对象.方法”调用方法\n",
    "# 点前面的对象就是接收消息的对象\n",
    "# 只需要传入第二个参数课程名称\n",
    "stu1.study('Python程序设计')             # 学生正在学习Python程序设计.\n",
    "\n",
    "Student.play(stu2)                      # 学生正在玩游戏.\n",
    "stu2.play()                             # 学生正在玩游戏. "
   ]
  },
  {
   "cell_type": "markdown",
   "id": "23566dc8",
   "metadata": {},
   "source": [
    "我们定义的变量其实保存的是一个对象在内存中的逻辑地址（位置），通过这个逻辑地址，我们就可以在内存中找到这个对象。"
   ]
  },
  {
   "cell_type": "markdown",
   "id": "d5d205cd",
   "metadata": {},
   "source": [
    "## 初始化方法\n",
    "刚才我们创建的学生对象只有行为没有属性，如果要给学生对象定义属性，我们可以修改Student类，为其添加一个名为__init__的方法。在我们调用Student类的构造器创建对象时，首先会在内存中获得保存学生对象所需的内存空间，然后通过自动执行__init__方法，完成对内存的初始化操作，也就是把数据放到内存空间中。所以我们可以通过给Student类添加__init__方法的方式为学生对象指定属性，同时完成对属性赋初始值的操作，正因如此，__init__方法通常也被称为初始化方法。"
   ]
  },
  {
   "cell_type": "code",
   "execution_count": 17,
   "id": "6e7d9478",
   "metadata": {},
   "outputs": [],
   "source": [
    "class Student:\n",
    "    \"\"\"学生\"\"\"\n",
    "\n",
    "    def __init__(self, name, age): # 初始化方法，用来初始化对象的属性\n",
    "        \"\"\"初始化方法\"\"\"\n",
    "        self.name = name # self.name表示对象的属性name，name是参数name的副本\n",
    "        self.age = age # self.age表示对象的属性age，age是参数age的副本\n",
    "\n",
    "    def study(self, course_name):\n",
    "        \"\"\"学习\"\"\"\n",
    "        print(f'{self.name}正在学习{course_name}.')\n",
    "\n",
    "    def play(self):\n",
    "        \"\"\"玩耍\"\"\"\n",
    "        print(f'{self.name}正在玩游戏.')"
   ]
  },
  {
   "cell_type": "code",
   "execution_count": 18,
   "id": "8232ba9e",
   "metadata": {},
   "outputs": [
    {
     "name": "stdout",
     "output_type": "stream",
     "text": [
      "骆昊正在学习Python程序设计.\n",
      "王大锤正在玩游戏.\n"
     ]
    }
   ],
   "source": [
    "# 调用Student类的构造器创建对象并传入初始化参数\n",
    "stu1 = Student('骆昊', 44)\n",
    "stu2 = Student('王大锤', 25)\n",
    "stu1.study('Python程序设计')    # 骆昊正在学习Python程序设计.\n",
    "stu2.play()                    # 王大锤正在玩游戏."
   ]
  },
  {
   "cell_type": "markdown",
   "id": "877ce887",
   "metadata": {},
   "source": [
    "## 封装\n",
    "隐藏一切可以隐藏的实现细节，只向外界暴露简单的调用接口。\n",
    "我们在类中定义的对象方法其实就是一种封装，这种封装可以让我们在创建对象之后，只需要给对象发送一个消息就可以执行方法中的代码，也就是说我们在只知道方法的名字和参数（方法的外部视图），不知道方法内部实现细节（方法的内部视图）的情况下就完成了对方法的使用。\n",
    "Python内置的list、set、dict其实都是类，如果要创建列表、集合、字典对象，我们就不用自定义类了，直接使用Python提供的构造器就可以了。例如，要创建一个空列表，我们可以使用以下代码：\n",
    "```python\n",
    "my_list = []\n",
    "```\n",
    "要创建一个空集合，我们可以使用以下代码：\n",
    "```python\n",
    "my_set = set()\n",
    "```\n",
    "要创建一个空字典，我们可以使用以下代码：\n",
    "```python\n",
    "my_dict = {}\n",
    "```"
   ]
  },
  {
   "cell_type": "markdown",
   "id": "c1f99d43",
   "metadata": {},
   "source": [
    "## 本节总结\n",
    "面向对象编程是一种非常流行的编程范式，除此之外还有指令式编程、函数式编程等编程范式。\n",
    "\n",
    "类是抽象的，对象是具体的，有了类就能创建对象，有了对象就可以接收消息，这就是面向对象编程的基础。\n",
    "\n",
    "定义类的过程是一个抽象的过程，找到对象公共的属性属于数据抽象，找到对象公共的方法属于行为抽象。抽象的过程是一个仁者见仁智者见智的过程，对同一类对象进行抽象可能会得到不同的结果。\n",
    "\n",
    "例如，我们可以定义一个学生类，学生类有姓名、年龄、成绩等属性，也有学习、考试等方法。但是，不同的学校可能对学生类的属性和方法有不同的要求，例如一些学校可能要求学生类有姓名、年龄、成绩、班级等属性，也可能要求学生类有学习、考试、点名等方法。"
   ]
  }
 ],
 "metadata": {
  "kernelspec": {
   "display_name": "d2lv1",
   "language": "python",
   "name": "python3"
  },
  "language_info": {
   "codemirror_mode": {
    "name": "ipython",
    "version": 3
   },
   "file_extension": ".py",
   "mimetype": "text/x-python",
   "name": "python",
   "nbconvert_exporter": "python",
   "pygments_lexer": "ipython3",
   "version": "3.12.10"
  }
 },
 "nbformat": 4,
 "nbformat_minor": 5
}
