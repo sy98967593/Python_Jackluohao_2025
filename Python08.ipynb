{
 "cells": [
  {
   "cell_type": "markdown",
   "id": "cb269414",
   "metadata": {},
   "source": [
    "摇色子6000次，统计每次摇出的数字出现的次数，但是代码比较“丑陋”，不过我们可以通过容器类型的变量来保存和操作多个数据，先介绍“列表”类型的变量。"
   ]
  },
  {
   "cell_type": "code",
   "execution_count": null,
   "id": "f72b27a9",
   "metadata": {},
   "outputs": [
    {
     "name": "stdout",
     "output_type": "stream",
     "text": [
      "1出现了1004次\n",
      "2出现了1007次\n",
      "3出现了1015次\n",
      "4出现了976次\n",
      "5出现了965次\n",
      "6出现了1033次\n"
     ]
    }
   ],
   "source": [
    "import random\n",
    "f1 = 0\n",
    "f2 = 0\n",
    "f3 = 0\n",
    "f4 = 0\n",
    "f5 = 0\n",
    "f6 = 0\n",
    "for _ in range(6000):\n",
    "    roll = random.randint(1, 6) \n",
    "    \"\"\"\n",
    "    模拟掷骰子，生成1，2，3，4，5，6的随机整数，【1，6】闭区间；\n",
    "    若是random.randrange(1, 7) 则生成1，2，3，4，5，6的随机整数，不包括7，【1，7）开区间\n",
    "    \"\"\"\n",
    "    if roll == 1:\n",
    "        f1 += 1\n",
    "    elif roll == 2:\n",
    "        f2 += 1\n",
    "    elif roll == 3:\n",
    "        f3 += 1\n",
    "    elif roll == 4:\n",
    "        f4 += 1\n",
    "    elif roll == 5:\n",
    "        f5 += 1\n",
    "    else:\n",
    "        f6 += 1\n",
    "print(f'1出现了{f1}次')\n",
    "print(f'2出现了{f2}次')\n",
    "print(f'3出现了{f3}次')\n",
    "print(f'4出现了{f4}次')\n",
    "print(f'5出现了{f5}次')\n",
    "print(f'6出现了{f6}次')\n"
   ]
  },
  {
   "cell_type": "markdown",
   "id": "51b2b2f1",
   "metadata": {},
   "source": [
    "\n",
    "## 列表创建\n",
    "列表是由一系元素按特定顺序构成的数据序列，这就意味着如果我们定义一个列表类型的变量，可以用它来保存多个数据。\n",
    "\"\"\"\n",
    "创建列表的语法：\n",
    "list_name = [element1, element2, element3, ...]\n",
    "“”“"
   ]
  },
  {
   "cell_type": "code",
   "execution_count": 3,
   "id": "ae48b721",
   "metadata": {},
   "outputs": [
    {
     "name": "stdout",
     "output_type": "stream",
     "text": [
      "[1, 2, 3, 4, 5, 6]\n",
      "['python', 'java', 'c++', 'c', 'go', 'rust']\n",
      "[1, 2, 'hello', True]\n"
     ]
    },
    {
     "data": {
      "text/plain": [
       "'\\n    说明：列表中可以有重复元素，例如items1中的35；\\n    列表中可以有不同类型的元素，例如items3中有int类型、float类型、str类型和bool类型的元素，但是我们通常并不建议将不同类型的元素放在同一个列表中，主要是操作起来极为不方便。\\n'"
      ]
     },
     "execution_count": 3,
     "metadata": {},
     "output_type": "execute_result"
    }
   ],
   "source": [
    "item1 = [1,2,3,4,5,6]\n",
    "item2 = ['python','java','c++','c','go','rust']\n",
    "item3 = [1,2,'hello',True]\n",
    "print(item1)\n",
    "print(item2)\n",
    "print(item3)\n",
    "\"\"\"\n",
    "    说明：列表中可以有重复元素，例如items1中的35；\n",
    "    列表中可以有不同类型的元素，例如items3中有int类型、float类型、str类型和bool类型的元素，但是我们通常并不建议将不同类型的元素放在同一个列表中，主要是操作起来极为不方便。\n",
    "\"\"\""
   ]
  },
  {
   "cell_type": "markdown",
   "id": "42f136fc",
   "metadata": {},
   "source": [
    "还可以通过 Python 内置的list函数将其他序列变成列表。准确的说，list并不是一个普通的函数，它是创建列表对象的构造器，后面的课程会为大家介绍对象和构造器这些概念。"
   ]
  },
  {
   "cell_type": "code",
   "execution_count": 4,
   "id": "31aec287",
   "metadata": {},
   "outputs": [
    {
     "name": "stdout",
     "output_type": "stream",
     "text": [
      "[1, 2, 3, 4, 5, 6, 7, 8, 9]\n",
      "['h', 'e', 'l', 'l', 'o']\n"
     ]
    }
   ],
   "source": [
    "item4 = list(range(1,10))\n",
    "item5 = list('hello')\n",
    "print(item4)\n",
    "print(item5)\n"
   ]
  },
  {
   "cell_type": "markdown",
   "id": "f6a807d9",
   "metadata": {},
   "source": [
    "## 列表的运算\n",
    "我们可以使用+运算符实现两个列表的拼接，拼接运算会将两个列表中的元素连接起来放到一个列表中，代码如下所示。"
   ]
  },
  {
   "cell_type": "markdown",
   "id": "8b731738",
   "metadata": {},
   "source": [
    "## 用列表实现摇色子"
   ]
  },
  {
   "cell_type": "code",
   "execution_count": 5,
   "id": "282f57a7",
   "metadata": {},
   "outputs": [
    {
     "name": "stdout",
     "output_type": "stream",
     "text": [
      "1点出现了1032次\n",
      "2点出现了999次\n",
      "3点出现了991次\n",
      "4点出现了980次\n",
      "5点出现了980次\n",
      "6点出现了1018次\n"
     ]
    }
   ],
   "source": [
    "\"\"\"\n",
    "将一颗色子掷6000次，统计每种点数出现的次数\n",
    "\n",
    "Author: 骆昊\n",
    "Version: 1.1\n",
    "\"\"\"\n",
    "import random\n",
    "\n",
    "counters = [0] * 6 # 初始化一个列表，列表中每个元素都是0，列表的长度为6\n",
    "for _ in range(6000):\n",
    "    face = random.randrange(1, 7)\n",
    "    counters[face - 1] += 1 # 每次掷色子后，将对应点数的计数器加1\n",
    "for face in range(1, 7):\n",
    "    print(f'{face}点出现了{counters[face - 1]}次') # 输出每个点数出现的次数"
   ]
  },
  {
   "cell_type": "markdown",
   "id": "49f52687",
   "metadata": {},
   "source": [
    "## 列表进阶\n",
    "列表类型的变量拥有很多方法可以帮助我们操作一个列表，假设我们有名为foos的列表，列表有名为bar的方法，那么使用列表方法的语法是：foos.bar()，这是一种通过对象引用调用对象方法的语法。后面我们讲面向对象编程的时候，还会对这种语法进行详细的讲解，这种语法也称为给对象发消息。"
   ]
  },
  {
   "cell_type": "code",
   "execution_count": null,
   "id": "eccfde5d",
   "metadata": {},
   "outputs": [],
   "source": [
    "items = ['Python', 'Java', 'C++', 'Kotlin', 'Swift'] # 定义一个列表，列表中包含5个元素\n",
    "items.sort() # 对列表中的元素进行排序，默认是升序排序\n",
    "print(items)  # ['C++', 'Java', 'Kotlin', 'Python', 'Swift']\n",
    "items.reverse() # 对列表中的元素进行反转，默认是降序排序\n",
    "print(items)  # ['Swift', 'Python', 'Kotlin', 'Java', 'C++']"
   ]
  },
  {
   "cell_type": "markdown",
   "id": "3b954bf7",
   "metadata": {},
   "source": [
    "## 列表生成式\n",
    "列表生成式是一种简洁的创建列表的方法，它的语法是：[expr for item in iterable]，其中expr是一个表达式，item是一个变量，iterable是一个可迭代对象，例如列表、元组、字符串等。\n",
    "**“强烈建议用生成式语法来创建列表，而不是用循环语句”**\n",
    "\n",
    "场景一：创建一个取值范围在1到99且能被3或者5整除的数字构成的列表。\n",
    "\n"
   ]
  },
  {
   "cell_type": "code",
   "execution_count": null,
   "id": "dab81d93",
   "metadata": {},
   "outputs": [],
   "source": [
    "items = [i for i in range(1, 100) if i % 3 == 0 or i % 5 == 0]\n",
    "print(items)"
   ]
  },
  {
   "cell_type": "markdown",
   "id": "4c109bcb",
   "metadata": {},
   "source": [
    "场景二：有一个整数列表nums1，创建一个新的列表nums2，nums2中的元素是nums1中对应元素的平方。"
   ]
  },
  {
   "cell_type": "code",
   "execution_count": 7,
   "id": "e5ccadba",
   "metadata": {},
   "outputs": [
    {
     "name": "stdout",
     "output_type": "stream",
     "text": [
      "[1225, 144, 9409, 4096, 3025]\n",
      "[1225, 144, 9409, 4096, 3025]\n"
     ]
    }
   ],
   "source": [
    "nums1 = [35, 12, 97, 64, 55]\n",
    "nums2 = []\n",
    "for num in nums1:\n",
    "    nums2.append(num ** 2)\n",
    "print(nums2)\n",
    "\n",
    "\"\"\"\n",
    "    用列表生成式实现场景二\n",
    "\"\"\"\n",
    "nums2 = [num ** 2 for num in nums1]\n",
    "print(nums2)\n"
   ]
  },
  {
   "cell_type": "markdown",
   "id": "c1311092",
   "metadata": {},
   "source": [
    "## 嵌套列表\n",
    "嵌套的列表可以用来表示表格或数学上的矩阵，例如：我们想保存5个学生3门课程的成绩，可以用如下所示的列表。每个元素相当于就是一个学生3门课程的成绩，例如[95, 83, 92]，而这个列表中的83代表了这个学生某一门课的成绩，如果想访问这个值，可以使用两次索引运算scores[0][1]，其中scores[0]可以得到[95, 83, 92]这个列表，再次使用索引运算[1]就可以获得该列表中的第二个元素。"
   ]
  },
  {
   "cell_type": "code",
   "execution_count": 8,
   "id": "06f3b9de",
   "metadata": {},
   "outputs": [
    {
     "name": "stdout",
     "output_type": "stream",
     "text": [
      "[95, 83, 92]\n",
      "83\n"
     ]
    }
   ],
   "source": [
    "scores = [[95, 83, 92], [80, 75, 82], [92, 97, 90], [80, 78, 69], [65, 66, 89]]\n",
    "print(scores[0])\n",
    "print(scores[0][1])"
   ]
  },
  {
   "cell_type": "markdown",
   "id": "5073cde5",
   "metadata": {},
   "source": [
    "## 大家先学会用列表解决工作中的问题，我想这一点更为重要。"
   ]
  },
  {
   "cell_type": "markdown",
   "id": "bb831af3",
   "metadata": {},
   "source": [
    "## 解包语法对多有的序列都成立"
   ]
  },
  {
   "cell_type": "code",
   "execution_count": null,
   "id": "89158f63",
   "metadata": {},
   "outputs": [],
   "source": [
    "a, b, *c = range(1, 10)\n",
    "print(a, b, c) # a=1, b=2, c=[3, 4, 5, 6, 7, 8, 9]\n",
    "a, b, c = [1, 10, 100]\n",
    "print(a, b, c) # a=1, b=10, c=100\n",
    "a, *b, c = 'hello'\n",
    "print(a, b, c) # a='h', b=['e', 'l', 'l'], c='o'    \n"
   ]
  },
  {
   "cell_type": "markdown",
   "id": "8d548284",
   "metadata": {},
   "source": [
    "## 元组和列表的比较\n",
    "元组和列表对比，元组和列表的主要区别在于元组是不可变的，而列表是可变的。元组的元素不能被修改，而列表的元素可以被修改。"
   ]
  },
  {
   "cell_type": "code",
   "execution_count": 1,
   "id": "87741866",
   "metadata": {},
   "outputs": [
    {
     "name": "stdout",
     "output_type": "stream",
     "text": [
      "(1, 2, 3, 4, 5)\n",
      "1\n",
      "(2, 3)\n",
      "1\n",
      "2\n",
      "3\n",
      "4\n",
      "5\n"
     ]
    }
   ],
   "source": [
    "# 元组语法\n",
    "# 元组是一种有序的不可变序列，它可以包含任意类型的元素，包括数字、字符串、列表、元组等。\n",
    "# 元组的元素用逗号分隔，并用圆括号括起来。\n",
    "# 元组的元素可以通过索引来访问，索引从0开始。\n",
    "# 元组的元素可以通过切片来访问，切片的语法是元组[开始索引:结束索引:步长]。\n",
    "# 元组的元素可以通过循环来遍历。\n",
    "# 元组示例如下\n",
    "t = (1, 2, 3, 4, 5)\n",
    "print(t)\n",
    "print(t[0])\n",
    "print(t[1:3])\n",
    "for i in t:\n",
    "    print(i)"
   ]
  },
  {
   "cell_type": "markdown",
   "id": "297eaeb7",
   "metadata": {},
   "source": [
    "## 字符串\n"
   ]
  },
  {
   "cell_type": "code",
   "execution_count": 9,
   "id": "8dc7943a",
   "metadata": {},
   "outputs": [
    {
     "name": "stdout",
     "output_type": "stream",
     "text": [
      "hello, world!\n",
      "你好，世界！\n",
      "hello,\n",
      "wonderful\n",
      "world!\n"
     ]
    }
   ],
   "source": [
    "s1 = 'hello, world!'\n",
    "s2 = \"你好，世界！\"\n",
    "s3 = '''hello,\n",
    "wonderful\n",
    "world!'''\n",
    "print(s1)\n",
    "print(s2)\n",
    "print(s3)"
   ]
  },
  {
   "cell_type": "markdown",
   "id": "c0012452",
   "metadata": {},
   "source": [
    "## 转义字符"
   ]
  },
  {
   "cell_type": "code",
   "execution_count": 10,
   "id": "653831f1",
   "metadata": {},
   "outputs": [
    {
     "name": "stdout",
     "output_type": "stream",
     "text": [
      "'hello, world!'\n",
      "\\hello, world!\\\n"
     ]
    }
   ],
   "source": [
    "s1 = '\\'hello, world!\\''\n",
    "s2 = '\\\\hello, world!\\\\'\n",
    "print(s1)\n",
    "print(s2)"
   ]
  },
  {
   "cell_type": "markdown",
   "id": "cb6b496c",
   "metadata": {},
   "source": [
    "## 格式化字符串\n",
    "从 Python 3.6 开始，格式化字符串还有更为简洁的书写方式，就是在字符串前加上f来格式化字符串，在这种以f打头的字符串中，{变量名}是一个占位符，会被变量对应的值将其替换掉，代码如下所示。"
   ]
  },
  {
   "cell_type": "code",
   "execution_count": 11,
   "id": "0fc88162",
   "metadata": {},
   "outputs": [
    {
     "name": "stdout",
     "output_type": "stream",
     "text": [
      "321 * 123 = 39483\n"
     ]
    }
   ],
   "source": [
    "a = 321\n",
    "b = 123\n",
    "print(f'{a} * {b} = {a * b}')"
   ]
  },
  {
   "cell_type": "markdown",
   "id": "af22f41a",
   "metadata": {},
   "source": [
    "## 集合\n",
    "Python 中的集合类型是一种无序容器，不允许有重复运算，由于底层使用了哈希存储，集合中的元素必须是hashable类型。集合与列表最大的区别在于集合中的元素没有顺序、所以不能够通过索引运算访问元素、但是集合可以执行交集、并集、差集等二元运算，也可以通过关系运算符检查两个集合是否存在超集、子集等关系。"
   ]
  },
  {
   "cell_type": "code",
   "execution_count": 2,
   "id": "21cc328f",
   "metadata": {},
   "outputs": [
    {
     "name": "stdout",
     "output_type": "stream",
     "text": [
      "{1, 2, 3, 4, 5}\n",
      "True\n",
      "True\n",
      "1\n",
      "2\n",
      "3\n",
      "4\n",
      "5\n"
     ]
    }
   ],
   "source": [
    "#集合语法示例\n",
    "s = {1, 2, 3, 4, 5}\n",
    "print(s)\n",
    "print(1 in s)\n",
    "print(6 not in s)\n",
    "for i in s:\n",
    "    print(i)"
   ]
  },
  {
   "cell_type": "markdown",
   "id": "e0ac2b5c",
   "metadata": {},
   "source": [
    "## 字典\n",
    "如果我们需要变量来保存一个人的信息，例如姓名、年龄、身高、体重、地址、手机号、邮箱等，那么我们可以使用字典来保存这些信息。因为字典是一种键值对（key-value）的容器，我们可以使用键来访问对应的值。若用集合set来保存，如果有重复元素，那么集合会自动去重。另一方面，虽然列表和元组都可以把一个人的所有信息都保存下来，当你要获取这个人的手机号或家庭住址时，你得先知道他的手机号是列表或元组中的第几个元素。此时我们需要字典（dictionary）类型，这种数据类型最适合把相关联的信息组装到一起，可以帮助我们解决 Python 程序中为真实事物建模的问题。"
   ]
  },
  {
   "cell_type": "code",
   "execution_count": null,
   "id": "0c46512a",
   "metadata": {},
   "outputs": [],
   "source": [
    "person1 = ['王大锤', 55, 168, 60, '成都市武侯区科华北路62号1栋101', '13122334455', '13800998877'] # 列表\n",
    "person2 = ('王大锤', 55, 168, 60, '成都市武侯区科华北路62号1栋101', '13122334455', '13800998877') # 元组\n",
    "person3 = {'王大锤', 55, 168, 60, '成都市武侯区科华北路62号1栋101', '13122334455', '13800998877'} # 集合\n"
   ]
  },
  {
   "cell_type": "markdown",
   "id": "9ad090ed",
   "metadata": {},
   "source": [
    "Python 中创建字典可以使用{}字面量语法，这一点跟上一节课讲的集合是一样的。但是字典的{}中的元素是以键值对的形式存在的，每个元素由:分隔的两个值构成，:前面是键，:后面是值，代码如下所示。"
   ]
  },
  {
   "cell_type": "code",
   "execution_count": 12,
   "id": "204418e5",
   "metadata": {},
   "outputs": [
    {
     "name": "stdout",
     "output_type": "stream",
     "text": [
      "{'麓': '山脚下', '路': '道，往来通行的地方；方面，地区：南～货，外～货；种类：他俩是一～人', '蕗': '甘草的别名', '潞': '潞水，水名，即今山西省的浊漳河；潞江，水名，即云南省的怒江'}\n",
      "{'name': '王大锤', 'age': 55, 'height': 168, 'weight': 60, 'addr': '成都市武侯区科华北路62号1栋101', 'tel': '13122334455', 'emergence contact': '13800998877'}\n"
     ]
    }
   ],
   "source": [
    "xinhua = {\n",
    "    '麓': '山脚下',\n",
    "    '路': '道，往来通行的地方；方面，地区：南～货，外～货；种类：他俩是一～人',\n",
    "    '蕗': '甘草的别名',\n",
    "    '潞': '潞水，水名，即今山西省的浊漳河；潞江，水名，即云南省的怒江'\n",
    "}\n",
    "print(xinhua)\n",
    "person = {\n",
    "    'name': '王大锤',\n",
    "    'age': 55,\n",
    "    'height': 168,\n",
    "    'weight': 60,\n",
    "    'addr': '成都市武侯区科华北路62号1栋101', \n",
    "    'tel': '13122334455',\n",
    "    'emergence contact': '13800998877'\n",
    "}\n",
    "print(person)"
   ]
  },
  {
   "cell_type": "code",
   "execution_count": null,
   "id": "d26f938f",
   "metadata": {},
   "outputs": [],
   "source": [
    "# dict函数(构造器)中的每一组参数就是字典中的一组键值对\n",
    "person = dict(name='王大锤', age=55, height=168, weight=60, addr='成都市武侯区科华北路62号1栋101')\n",
    "print(person)  # {'name': '王大锤', 'age': 55, 'height': 168, 'weight': 60, 'addr': '成都市武侯区科华北路62号1栋101'}\n",
    "​\n",
    "# 可以通过Python内置函数zip压缩两个序列并创建字典\n",
    "items1 = dict(zip('ABCDE', '12345'))\n",
    "print(items1)  # {'A': '1', 'B': '2', 'C': '3', 'D': '4', 'E': '5'}\n",
    "items2 = dict(zip('ABCDE', range(1, 10)))\n",
    "print(items2)  # {'A': 1, 'B': 2, 'C': 3, 'D': 4, 'E': 5}\n",
    "​\n",
    "# 用字典生成式语法创建字典\n",
    "items3 = {x: x ** 3 for x in range(1, 6)}\n",
    "print(items3)  # {1: 1, 2: 8, 3: 27, 4: 64, 5: 125}"
   ]
  }
 ],
 "metadata": {
  "kernelspec": {
   "display_name": "d2lv1",
   "language": "python",
   "name": "python3"
  },
  "language_info": {
   "codemirror_mode": {
    "name": "ipython",
    "version": 3
   },
   "file_extension": ".py",
   "mimetype": "text/x-python",
   "name": "python",
   "nbconvert_exporter": "python",
   "pygments_lexer": "ipython3",
   "version": "3.12.10"
  }
 },
 "nbformat": 4,
 "nbformat_minor": 5
}
