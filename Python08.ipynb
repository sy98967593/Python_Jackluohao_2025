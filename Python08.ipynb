{
 "cells": [
  {
   "cell_type": "markdown",
   "id": "cb269414",
   "metadata": {},
   "source": [
    "摇色子6000次，统计每次摇出的数字出现的次数，但是代码比较“丑陋”，不过我们可以通过容器类型的变量来保存和操作多个数据，先介绍“列表”类型的变量。"
   ]
  },
  {
   "cell_type": "code",
   "execution_count": null,
   "id": "f72b27a9",
   "metadata": {},
   "outputs": [
    {
     "name": "stdout",
     "output_type": "stream",
     "text": [
      "1出现了1004次\n",
      "2出现了1007次\n",
      "3出现了1015次\n",
      "4出现了976次\n",
      "5出现了965次\n",
      "6出现了1033次\n"
     ]
    }
   ],
   "source": [
    "import random\n",
    "f1 = 0\n",
    "f2 = 0\n",
    "f3 = 0\n",
    "f4 = 0\n",
    "f5 = 0\n",
    "f6 = 0\n",
    "for _ in range(6000):\n",
    "    roll = random.randint(1, 6) \n",
    "    \"\"\"\n",
    "    模拟掷骰子，生成1，2，3，4，5，6的随机整数，【1，6】闭区间；\n",
    "    若是random.randrange(1, 7) 则生成1，2，3，4，5，6的随机整数，不包括7，【1，7）开区间\n",
    "    \"\"\"\n",
    "    if roll == 1:\n",
    "        f1 += 1\n",
    "    elif roll == 2:\n",
    "        f2 += 1\n",
    "    elif roll == 3:\n",
    "        f3 += 1\n",
    "    elif roll == 4:\n",
    "        f4 += 1\n",
    "    elif roll == 5:\n",
    "        f5 += 1\n",
    "    else:\n",
    "        f6 += 1\n",
    "print(f'1出现了{f1}次')\n",
    "print(f'2出现了{f2}次')\n",
    "print(f'3出现了{f3}次')\n",
    "print(f'4出现了{f4}次')\n",
    "print(f'5出现了{f5}次')\n",
    "print(f'6出现了{f6}次')\n"
   ]
  },
  {
   "cell_type": "markdown",
   "id": "51b2b2f1",
   "metadata": {},
   "source": [
    "\n",
    "列表是由一系元素按特定顺序构成的数据序列，这就意味着如果我们定义一个列表类型的变量，可以用它来保存多个数据。\n",
    "\"\"\"\n",
    "创建列表的语法：\n",
    "list_name = [element1, element2, element3, ...]\n",
    "“”“"
   ]
  },
  {
   "cell_type": "code",
   "execution_count": null,
   "id": "ae48b721",
   "metadata": {},
   "outputs": [
    {
     "name": "stdout",
     "output_type": "stream",
     "text": [
      "[1, 2, 3, 4, 5, 6]\n",
      "['python', 'java', 'c++', 'c', 'go', 'rust']\n",
      "[1, 2, 'hello', True]\n"
     ]
    }
   ],
   "source": [
    "item1 = [1,2,3,4,5,6]\n",
    "item2 = ['python','java','c++','c','go','rust']\n",
    "item3 = [1,2,'hello',True]\n",
    "print(item1)\n",
    "print(item2)\n",
    "print(item3)\n",
    "\"\"\"\n",
    "    说明：列表中可以有重复元素，例如items1中的35；\n",
    "    列表中可以有不同类型的元素，例如items3中有int类型、float类型、str类型和bool类型的元素，但是我们通常并不建议将不同类型的元素放在同一个列表中，主要是操作起来极为不方便。\n",
    "\"\"\""
   ]
  }
 ],
 "metadata": {
  "kernelspec": {
   "display_name": "d2lv1",
   "language": "python",
   "name": "python3"
  },
  "language_info": {
   "codemirror_mode": {
    "name": "ipython",
    "version": 3
   },
   "file_extension": ".py",
   "mimetype": "text/x-python",
   "name": "python",
   "nbconvert_exporter": "python",
   "pygments_lexer": "ipython3",
   "version": "3.12.10"
  }
 },
 "nbformat": 4,
 "nbformat_minor": 5
}
