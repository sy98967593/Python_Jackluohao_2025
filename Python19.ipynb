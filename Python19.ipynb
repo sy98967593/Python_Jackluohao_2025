{
 "cells": [
  {
   "cell_type": "markdown",
   "id": "be75f6ea",
   "metadata": {},
   "source": [
    "## 可见性和属性装饰器\n",
    "对象的属性，通常会被设置为私有或受保护的，这是为了防止外部代码直接访问或修改对象的属性，从而确保对象的状态保持一致。而对象的方法通常是公开的，因为公开的方法使对象能够接收消息，也是对象暴露给外界的调用接口，用于与对象进行交互。在 Python 中，可以通过给对象属性名添加前缀下划线的方式来说明属性的访问可见性，例如，可以用__name表示一个私有属性，_name表示一个受保护属性。"
   ]
  },
  {
   "cell_type": "code",
   "execution_count": 4,
   "id": "d007cb6e",
   "metadata": {},
   "outputs": [
    {
     "name": "stdout",
     "output_type": "stream",
     "text": [
      "张三正在学习Python程序设计.\n",
      "张三\n"
     ]
    }
   ],
   "source": [
    "class student:\n",
    "    def __init__(self,name,age):\n",
    "        self.__name = name\n",
    "        self.__age = age\n",
    "\n",
    "    def study(self,course_name):\n",
    "        \"\"\"学习\"\"\"\n",
    "        print(f'{self.__name}正在学习{course_name}.')\n",
    "\n",
    "stu = student('张三',18)\n",
    "stu.study('Python程序设计')\n",
    "# print(stu.__name) # 错误，不能直接访问私有属性\n",
    "print(stu._student__name) # 可以通过_类名__属性名的方式访问私有属性\n"
   ]
  },
  {
   "cell_type": "markdown",
   "id": "ff0a78e3",
   "metadata": {},
   "source": [
    "## 动态属性\n",
    "Python语言属于动态语言，这意味着在运行时可以给对象添加新的属性或方法，此外还有JavaScript，PHP,Ruby等。而在静态语言中，属性和方法必须在类定义时就确定下来，如Java、C++等。\n",
    "但如果不希望在使用对象时动态的为对象添加属性，可以使用 Python 语言中的__slots__魔法。对于Student类来说，可以在类中指定__slots__ = ('name', 'age')，这样Student类的对象只能有name和age属性，如果想动态添加其他属性将会引发异常。"
   ]
  },
  {
   "cell_type": "markdown",
   "id": "dd0e4bd9",
   "metadata": {},
   "source": [
    "## 还有静态属性\n"
   ]
  },
  {
   "cell_type": "markdown",
   "id": "4399e4d5",
   "metadata": {},
   "source": [
    "## 继承和多态\n",
    "提供继承信息的类叫做父类（超类、基类），得到继承信息的类叫做子类（派生类、衍生类）。\n",
    "我们应该先定义人类，再通过继承，从人类派生出老师类和学生类。\n",
    "\n",
    "子类除了可以通过继承得到父类提供的属性和方法外，还可以定义自己特有的属性和方法，所以子类比父类拥有的更多的能力。在实际开发中，我们经常会用子类对象去替换掉一个父类对象，这是面向对象编程中一个常见的行为，也叫做“里氏替换原则”（Liskov Substitution Principle）。"
   ]
  },
  {
   "cell_type": "code",
   "execution_count": null,
   "id": "137ffc3a",
   "metadata": {},
   "outputs": [
    {
     "name": "stdout",
     "output_type": "stream",
     "text": [
      "白元芳正在吃饭.\n",
      "狄仁杰正在睡觉.\n",
      "武则天正在吃饭.\n",
      "白元芳正在学习Python程序设计.\n",
      "武则天副教授正在讲授Python程序设计.\n",
      "狄仁杰正在学习数据科学导论.\n"
     ]
    }
   ],
   "source": [
    "class Person:\n",
    "    \"\"\"人\"\"\"\n",
    "    def __init__(self, name, age):\n",
    "        self.name = name\n",
    "        self.age = age\n",
    "      \n",
    "    def eat(self):\n",
    "        print(f'{self.name}正在吃饭.')\n",
    "    \n",
    "    def sleep(self):\n",
    "        print(f'{self.name}正在睡觉.')\n",
    "\n",
    "\n",
    "class Student(Person):\n",
    "    \"\"\"学生\"\"\"\n",
    "    \n",
    "    def __init__(self, name, age):\n",
    "        super().__init__(name, age) # 调用父类的初始化方法，初始化name和age属性\n",
    "      \n",
    "    def study(self, course_name):\n",
    "        print(f'{self.name}正在学习{course_name}.')\n",
    " \n",
    "\n",
    "class Teacher(Person):\n",
    "    \"\"\"老师\"\"\"\n",
    "\n",
    "    def __init__(self, name, age, title):\n",
    "        super().__init__(name, age) # 调用父类的初始化方法，初始化name和age属性\n",
    "        self.title = title # 初始化title属性,这里定义了自己特有的属性和方法，所以子类比父类拥有更多的能力。\n",
    "\n",
    "    def teach(self, course_name):\n",
    "        print(f'{self.name}{self.title}正在讲授{course_name}.')\n",
    "\n",
    "\n",
    "\n",
    "stu1 = Student('白元芳', 21)\n",
    "stu2 = Student('狄仁杰', 22)\n",
    "tea1 = Teacher('武则天', 35, '副教授')\n",
    "stu1.eat()\n",
    "stu2.sleep()\n",
    "tea1.eat()\n",
    "stu1.study('Python程序设计')\n",
    "tea1.teach('Python程序设计')\n",
    "stu2.study('数据科学导论')"
   ]
  }
 ],
 "metadata": {
  "kernelspec": {
   "display_name": "d2lpy312",
   "language": "python",
   "name": "python3"
  },
  "language_info": {
   "codemirror_mode": {
    "name": "ipython",
    "version": 3
   },
   "file_extension": ".py",
   "mimetype": "text/x-python",
   "name": "python",
   "nbconvert_exporter": "python",
   "pygments_lexer": "ipython3",
   "version": "3.12.7"
  }
 },
 "nbformat": 4,
 "nbformat_minor": 5
}
