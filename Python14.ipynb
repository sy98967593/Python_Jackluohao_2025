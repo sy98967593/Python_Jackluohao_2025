{
 "cells": [
  {
   "cell_type": "markdown",
   "id": "5cdc76a0",
   "metadata": {},
   "source": [
    "## 函数和模块\n",
    "“代码有很多种坏味道，重复是最坏的一种”\n",
    "一个函数要做的事情（要执行的代码），是通过代码缩进的方式放到函数定义行之后，跟之前分支和循环结构的代码块类似，如下图所示。\n",
    "\n",
    "![在线图片](https://pica.zhimg.com/v2-57e4447ff3be3ebda30676445905f7a6_1440w.jpg)"
   ]
  },
  {
   "cell_type": "code",
   "execution_count": 1,
   "id": "159a9bb2",
   "metadata": {},
   "outputs": [
    {
     "name": "stdout",
     "output_type": "stream",
     "text": [
      "3\n"
     ]
    }
   ],
   "source": [
    "\"\"\"\n",
    "输入m和n，计算组合数C(m,n)的值\n",
    "Version: 1.1\n",
    "Author: 骆昊\n",
    "\"\"\"\n",
    "# 通过关键字def定义求阶乘的函数\n",
    "# 自变量（参数）num是一个非负整数\n",
    "# 因变量（返回值）是num的阶乘\n",
    "def fac(num):\n",
    "    result = 1\n",
    "    for n in range(2, num + 1):\n",
    "        result *= n\n",
    "    return result\n",
    "\n",
    "m = int(input('m = '))\n",
    "n = int(input('n = '))\n",
    "# 计算阶乘的时候不需要写重复的代码而是直接调用函数\n",
    "# 调用函数的语法是在函数名后面跟上圆括号并传入参数\n",
    "print(fac(m) // fac(n) // fac(m - n))"
   ]
  },
  {
   "cell_type": "markdown",
   "id": "09ffbe06",
   "metadata": {},
   "source": [
    "python的math模块提供了许多数学函数，例如求平方根、求幂、求三角函数等。包括阶乘函数factorial()\n",
    "将来我们使用的函数，要么是自定义的函数，要么是 Python 标准库或者三方库中提供的函数，如果已经有现成的可用的函数，我们就没有必要自己去定义，“重复发明轮子”是一件非常糟糕的事情。"
   ]
  },
  {
   "cell_type": "code",
   "execution_count": null,
   "id": "b8cc41e3",
   "metadata": {},
   "outputs": [
    {
     "name": "stdout",
     "output_type": "stream",
     "text": [
      "3\n"
     ]
    }
   ],
   "source": [
    "from math import factorial as fac # 导入阶乘函数并起别名fac,因为factorial()函数名太长了\n",
    "m = int(input('m = '))\n",
    "n = int(input('n = '))\n",
    "print(fac(m) // fac(n) // fac(m-n))\n"
   ]
  },
  {
   "cell_type": "markdown",
   "id": "49361669",
   "metadata": {},
   "source": [
    "## 可变参数\n",
    "Python 语言中可以通过星号表达式语法让函数支持可变参数。所谓可变参数指的是在调用函数时，可以向函数传入0个或任意多个参数。"
   ]
  },
  {
   "cell_type": "code",
   "execution_count": 3,
   "id": "541500bc",
   "metadata": {},
   "outputs": [
    {
     "name": "stdout",
     "output_type": "stream",
     "text": [
      "0\n",
      "1\n",
      "6\n",
      "12.45\n"
     ]
    }
   ],
   "source": [
    "# 用星号表达式来表示args可以接收0个或任意多个参数\n",
    "# 调用函数时传入的n个参数会组装成一个n元组赋给args\n",
    "# 如果一个参数都没有传入，那么args会是一个空元组\n",
    "def add(*args):\n",
    "    total = 0\n",
    "    # 对保存可变参数的元组进行循环遍历\n",
    "    for val in args:\n",
    "        # 对参数进行了类型检查（数值型的才能求和）\n",
    "        if type(val) in (int, float):\n",
    "            total += val\n",
    "    return total\n",
    "\n",
    "\n",
    "# 在调用add函数时可以传入0个或任意多个参数\n",
    "print(add())         # 0\n",
    "print(add(1))        # 1\n",
    "print(add(1, 2, 3))  # 6\n",
    "print(add(1, 2, 'hello', 3.45, 6))  # 12.45"
   ]
  },
  {
   "cell_type": "markdown",
   "id": "8b31a725",
   "metadata": {},
   "source": [
    "如果我们希望通过“参数名=参数值”的形式传入若干个参数，具体有多少个参数也是不确定的，我们还可以给函数添加可变关键字参数，把传入的关键字参数组装到一个字典中，代码如下所示。"
   ]
  },
  {
   "cell_type": "code",
   "execution_count": 4,
   "id": "834b5896",
   "metadata": {},
   "outputs": [
    {
     "name": "stdout",
     "output_type": "stream",
     "text": [
      "(3, 2.1, True)\n",
      "{'name': '骆昊', 'age': 43, 'gpa': 4.95}\n"
     ]
    }
   ],
   "source": [
    "# 参数列表中的**kwargs可以接收0个或任意多个关键字参数\n",
    "# 调用函数时传入的关键字参数会组装成一个字典（参数名是字典中的键，参数值是字典中的值）\n",
    "# 如果一个关键字参数都没有传入，那么kwargs会是一个空字典\n",
    "def foo(*args, **kwargs):\n",
    "    print(args)\n",
    "    print(kwargs)\n",
    "foo(3, 2.1, True, name='骆昊', age=43, gpa=4.95)"
   ]
  },
  {
   "cell_type": "markdown",
   "id": "63936194",
   "metadata": {},
   "source": [
    "## 用模块管理函数\n",
    "解决命名冲突问题，比如："
   ]
  },
  {
   "cell_type": "code",
   "execution_count": 5,
   "id": "d9a987ab",
   "metadata": {},
   "outputs": [
    {
     "name": "stdout",
     "output_type": "stream",
     "text": [
      "goodbye, world!\n"
     ]
    }
   ],
   "source": [
    "def foo():\n",
    "    print('hello, world!')\n",
    "\n",
    "\n",
    "def foo():\n",
    "    print('goodbye, world!')\n",
    "\n",
    "\n",
    "foo()  # 大家猜猜调用foo函数会输出什么"
   ]
  },
  {
   "cell_type": "markdown",
   "id": "deeb6f33",
   "metadata": {},
   "source": [
    "解决方案：\n",
    "我们可以使用模块来管理函数，Python 中每个文件就代表了一个模块（module），我们在不同的模块中可以有同名的函数，在使用函数的时候，我们通过import关键字导入指定的模块再使用完全限定名（模块名.函数名）的调用方式，就可以区分到底要使用的是哪个模块中的foo函数，例如：\n",
    "### module1.py\n",
    "\n",
    "def foo():\n",
    "    print('hello, world!')\n",
    "### module2.py\n",
    "\n",
    "def foo():\n",
    "    print('goodbye, world!')\n",
    "test.py\n",
    "\n",
    "import module1\n",
    "import module2\n",
    "\n",
    "### 用“模块名.函数名”的方式（完全限定名）调用函数，\n",
    "module1.foo()  # hello, world!\n",
    "module2.foo()  # goodbye, world!"
   ]
  }
 ],
 "metadata": {
  "kernelspec": {
   "display_name": "d2lv1",
   "language": "python",
   "name": "python3"
  },
  "language_info": {
   "codemirror_mode": {
    "name": "ipython",
    "version": 3
   },
   "file_extension": ".py",
   "mimetype": "text/x-python",
   "name": "python",
   "nbconvert_exporter": "python",
   "pygments_lexer": "ipython3",
   "version": "3.12.10"
  }
 },
 "nbformat": 4,
 "nbformat_minor": 5
}
