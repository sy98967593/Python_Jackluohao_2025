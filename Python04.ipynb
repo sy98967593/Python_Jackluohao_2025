{
 "cells": [
  {
   "cell_type": "code",
   "execution_count": 1,
   "id": "7f1b17dc",
   "metadata": {},
   "outputs": [
    {
     "name": "stdout",
     "output_type": "stream",
     "text": [
      "195\n"
     ]
    }
   ],
   "source": [
    "\"\"\"\n",
    "赋值运算符和复合赋值运算符\n",
    "\n",
    "Version: 1.0\n",
    "Author: 骆昊\n",
    "\"\"\"\n",
    "a = 10\n",
    "b = 3\n",
    "a += b        # 相当于：a = a + b\n",
    "a *= a + 2    # 相当于：a = a * (a + 2)\n",
    "print(a)      # 大家算一下这里会输出什么"
   ]
  },
  {
   "cell_type": "code",
   "execution_count": null,
   "id": "9059d8c5",
   "metadata": {},
   "outputs": [
    {
     "name": "stdout",
     "output_type": "stream",
     "text": [
      "25.3华氏度 = -3.7摄氏度\n"
     ]
    }
   ],
   "source": [
    "\"\"\"\n",
    "将华氏温度转换为摄氏温度\n",
    "\n",
    "Version: 1.0\n",
    "Author: 骆昊\n",
    "\"\"\"\n",
    "f = float(input('请输入华氏温度: '))\n",
    "c = (f - 32) / 1.8\n",
    "print('%.1f华氏度 = %.1f摄氏度' % (f, c))\n",
    "# 如下也可以使用f-string来格式化输出，f-string允许您在字符串内部直接嵌入表达式，这些表达式会在运行时被计算并替换为它们的值\n",
    "print(f'{f:.1f}华氏度 = {c:.1f}摄氏度') # 这里的:.1f表示保留1位小数"
   ]
  },
  {
   "cell_type": "markdown",
   "id": "b7294584",
   "metadata": {},
   "source": [
    "例子2：计算圆的周长和面积"
   ]
  },
  {
   "cell_type": "code",
   "execution_count": null,
   "id": "e2ef3cba",
   "metadata": {},
   "outputs": [
    {
     "name": "stdout",
     "output_type": "stream",
     "text": [
      "周长: 40.84\n",
      "面积: 132.73\n"
     ]
    }
   ],
   "source": [
    "\"\"\"\n",
    "输入半径计算圆的周长和面积\n",
    "\n",
    "Version: 1.0\n",
    "Author: 骆昊\n",
    "\"\"\"\n",
    "radius = float(input('请输入圆的半径: '))\n",
    "perimeter = 2 * 3.1416 * radius\n",
    "area = 3.1416 * radius * radius\n",
    "print('周长: %.2f' % perimeter)\n",
    "print('面积: %.2f' % area)\n",
    "# 如下也可以使用f-string来格式化输出，f-string允许您在字符串内部直接嵌入表达式，这些表达式会在运行时被计算并替换为它们的值\n",
    "print(f'半径为{radius}的圆的周长为{perimeter:.2f}，面积为{area:.2f}') # 这里的:.2f表示保留2位小数"
   ]
  },
  {
   "cell_type": "markdown",
   "id": "2bd98650",
   "metadata": {},
   "source": [
    "例子3：判断闰年, 要求：输入一个1582年以后的年份，判断该年份是不是闰年。"
   ]
  },
  {
   "cell_type": "code",
   "execution_count": null,
   "id": "33168af5",
   "metadata": {},
   "outputs": [
    {
     "name": "stdout",
     "output_type": "stream",
     "text": [
      "is_leap = True\n"
     ]
    }
   ],
   "source": [
    "\"\"\"\n",
    "输入年份，闰年输出True，平年输出False\n",
    "\n",
    "Version: 1.0\n",
    "Author: 骆昊\n",
    "\"\"\"\n",
    "year = int(input('请输入年份: '))\n",
    "is_leap = year % 4 == 0 and year % 100 != 0 or year % 400 == 0\n",
    "print(f'{is_leap = }')"
   ]
  }
 ],
 "metadata": {
  "kernelspec": {
   "display_name": "d2lv1",
   "language": "python",
   "name": "python3"
  },
  "language_info": {
   "codemirror_mode": {
    "name": "ipython",
    "version": 3
   },
   "file_extension": ".py",
   "mimetype": "text/x-python",
   "name": "python",
   "nbconvert_exporter": "python",
   "pygments_lexer": "ipython3",
   "version": "3.12.10"
  }
 },
 "nbformat": 4,
 "nbformat_minor": 5
}
